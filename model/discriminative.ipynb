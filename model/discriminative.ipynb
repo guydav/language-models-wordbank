{
 "metadata": {
  "language_info": {
   "codemirror_mode": {
    "name": "ipython",
    "version": 3
   },
   "file_extension": ".py",
   "mimetype": "text/x-python",
   "name": "python",
   "nbconvert_exporter": "python",
   "pygments_lexer": "ipython3",
   "version": "3.8.5-final"
  },
  "orig_nbformat": 2,
  "kernelspec": {
   "name": "python385jvsc74a57bd0a100aa1876e5ac3363f19f1f1b65f414bec22fc629749747bbf4df88caa32aa2",
   "display_name": "Python 3.8.5 64-bit ('torch': conda)"
  }
 },
 "nbformat": 4,
 "nbformat_minor": 2,
 "cells": [
  {
   "cell_type": "code",
   "execution_count": 10,
   "metadata": {},
   "outputs": [],
   "source": [
    "import datasets\n",
    "import transformers\n",
    "from transformers import AutoTokenizer, AutoModelForMaskedLM\n",
    "\n",
    "import mlm\n",
    "from mlm.scorers import MLMScorerPT \n",
    "from mlm.models import get_pretrained\n",
    "\n",
    "import mxnet as mx\n",
    "ctxs = [mx.cpu()]\n",
    "\n",
    "import pathlib\n",
    "import os\n",
    "\n",
    "from dataset_orm import *\n",
    "from wordbank_tasks import *\n",
    "\n",
    "from sqlalchemy import create_engine\n",
    "from sqlalchemy.orm import sessionmaker"
   ]
  },
  {
   "source": [
    "## NOTES\n",
    "\n",
    "* **TODO**: verify the surgery I did to the mlm.scorers codebase to accept RoBERTa is legit\n",
    "* If we want other models, we'll have to add them there, too, perhaps with a bit more work if their output format is very different\n",
    "* The function below implements the very basic test. Next steps I can see us wanting to do:\n",
    "    * Combine it with sentences from the real data\n",
    "    * Check at least two alternative word-replacement strategies (within category, between categories)\n",
    "    * Write more of a pipeline that samples words, sentences, replacement words for each sentence, and spits out scorers\n",
    "* Open questions:\n",
    "    * How do we measure how well the model did? Rank of the correct sentence? NLL difference from correct and other best-performing sentence? Both? "
   ],
   "cell_type": "markdown",
   "metadata": {}
  },
  {
   "source": [
    "def scorer_from_transformers_checkpoint(checkpotint_name, contexts):\n",
    "    tokenizer = AutoTokenizer.from_pretrained(checkpotint_name)\n",
    "    model = AutoModelForMaskedLM.from_pretrained(checkpotint_name)\n",
    "    return MLMScorerPT(model, None, tokenizer, contexts)\n",
    "\n",
    "roberta_scorer = scorer_from_transformers_checkpoint('nyu-mll/roberta-base-100M-1', ctxs)\n",
    "bert_scorer = scorer_from_transformers_checkpoint('bert-base-uncased', ctxs)\n"
   ],
   "cell_type": "code",
   "metadata": {},
   "execution_count": 7,
   "outputs": [
    {
     "output_type": "stream",
     "name": "stderr",
     "text": [
      "WARNING:root:Created scorer of class 'MLMScorerPT'.\n",
      "Some weights of the model checkpoint at bert-base-uncased were not used when initializing BertForMaskedLM: ['cls.seq_relationship.weight', 'cls.seq_relationship.bias']\n",
      "- This IS expected if you are initializing BertForMaskedLM from the checkpoint of a model trained on another task or with another architecture (e.g. initializing a BertForSequenceClassification model from a BertForPretraining model).\n",
      "- This IS NOT expected if you are initializing BertForMaskedLM from the checkpoint of a model that you expect to be exactly identical (initializing a BertForSequenceClassification model from a BertForSequenceClassification model).\n",
      "WARNING:root:Created scorer of class 'MLMScorerPT'.\n"
     ]
    }
   ]
  },
  {
   "cell_type": "code",
   "execution_count": 11,
   "metadata": {},
   "outputs": [],
   "source": [
    "DB_FILE = 'wordbank.db'\n",
    "DB_PATH = pathlib.Path(os.getcwd()).parent.absolute() / 'data' / DB_FILE\n",
    "engine = create_engine(f'sqlite:///{DB_PATH}')\n",
    "Session = sessionmaker(bind=engine)"
   ]
  },
  {
   "cell_type": "code",
   "execution_count": 19,
   "metadata": {},
   "outputs": [
    {
     "output_type": "stream",
     "name": "stderr",
     "text": [
      "/Users/guydavidson/opt/anaconda3/envs/torch/lib/python3.8/site-packages/gluonnlp/data/sampler.py:353: UserWarning: Some buckets are empty and will be removed. Unused bucket keys=[23, 26, 29, 32, 35, 38, 41, 44]\n",
      "  warnings.warn('Some buckets are empty and will be removed. Unused bucket keys=%s' %\n",
      "/Users/guydavidson/opt/anaconda3/envs/torch/lib/python3.8/site-packages/gluonnlp/data/sampler.py:353: UserWarning: Some buckets are empty and will be removed. Unused bucket keys=[25, 29, 33, 37, 41, 45]\n",
      "  warnings.warn('Some buckets are empty and will be removed. Unused bucket keys=%s' %\n"
     ]
    },
    {
     "output_type": "execute_result",
     "data": {
      "text/plain": [
       "[[True, False, False, False, False], [True, False, False, True, False]]"
      ]
     },
     "metadata": {},
     "execution_count": 19
    }
   ],
   "source": [
    "session = Session()\n",
    "apple_word = session.query(WordbankWord).filter(WordbankWord.word == 'apple').one()\n",
    "discriminative_task_single_word(\n",
    "    Session, apple_word, 5, 5,\n",
    "    [bert_scorer, roberta_scorer],\n",
    "    smallest_nll_criterion)"
   ]
  },
  {
   "cell_type": "code",
   "execution_count": null,
   "metadata": {},
   "outputs": [],
   "source": []
  },
  {
   "cell_type": "code",
   "execution_count": null,
   "metadata": {},
   "outputs": [],
   "source": []
  },
  {
   "cell_type": "code",
   "execution_count": null,
   "metadata": {},
   "outputs": [],
   "source": []
  },
  {
   "cell_type": "code",
   "execution_count": null,
   "metadata": {},
   "outputs": [],
   "source": []
  }
 ]
}