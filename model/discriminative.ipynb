{
 "metadata": {
  "language_info": {
   "codemirror_mode": {
    "name": "ipython",
    "version": 3
   },
   "file_extension": ".py",
   "mimetype": "text/x-python",
   "name": "python",
   "nbconvert_exporter": "python",
   "pygments_lexer": "ipython3",
   "version": "3.8.5-final"
  },
  "orig_nbformat": 2,
  "kernelspec": {
   "name": "python385jvsc74a57bd0a100aa1876e5ac3363f19f1f1b65f414bec22fc629749747bbf4df88caa32aa2",
   "display_name": "Python 3.8.5 64-bit ('torch': conda)"
  }
 },
 "nbformat": 4,
 "nbformat_minor": 2,
 "cells": [
  {
   "cell_type": "code",
   "execution_count": 1,
   "metadata": {},
   "outputs": [
    {
     "output_type": "stream",
     "name": "stderr",
     "text": [
      "/Users/guydavidson/opt/anaconda3/envs/torch/lib/python3.8/site-packages/mxnet/optimizer/optimizer.py:163: UserWarning: WARNING: New optimizer gluonnlp.optimizer.lamb.LAMB is overriding existing optimizer mxnet.optimizer.optimizer.LAMB\n  warnings.warn('WARNING: New optimizer %s.%s is overriding '\n"
     ]
    }
   ],
   "source": [
    "import datasets\n",
    "import transformers\n",
    "from transformers import AutoTokenizer, AutoModelForMaskedLM\n",
    "\n",
    "import mlm\n",
    "from mlm.scorers import MLMScorerPT \n",
    "from mlm.models import get_pretrained\n",
    "\n",
    "import mxnet as mx\n",
    "ctxs = [mx.cpu()]"
   ]
  },
  {
   "source": [
    "## NOTES\n",
    "\n",
    "* **TODO**: verify the surgery I did to the mlm.scorers codebase to accept RoBERTa is legit\n",
    "* If we want other models, we'll have to add them there, too, perhaps with a bit more work if their output format is very different\n",
    "* The function below implements the very basic test. Next steps I can see us wanting to do:\n",
    "    * Combine it with sentences from the real data\n",
    "    * Check at least two alternative word-replacement strategies (within category, between categories)\n",
    "    * Write more of a pipeline that samples words, sentences, replacement words for each sentence, and spits out scorers\n",
    "* Open questions:\n",
    "    * How do we measure how well the model did? Rank of the correct sentence? NLL difference from correct and other best-performing sentence? Both? "
   ],
   "cell_type": "markdown",
   "metadata": {}
  },
  {
   "source": [
    "\n",
    "\n",
    "checkpotint_name = \"nyu-mll/roberta-base-100M-1\"\n",
    "# checkpotint_name = 'bert-base-uncased'\n",
    "tokenizer = AutoTokenizer.from_pretrained(checkpotint_name)\n",
    "model = AutoModelForMaskedLM.from_pretrained(checkpotint_name)"
   ],
   "cell_type": "code",
   "metadata": {},
   "execution_count": 3,
   "outputs": []
  },
  {
   "cell_type": "code",
   "execution_count": 4,
   "metadata": {},
   "outputs": [
    {
     "output_type": "stream",
     "name": "stderr",
     "text": [
      "WARNING:root:Created scorer of class 'MLMScorerPT'.\n"
     ]
    }
   ],
   "source": [
    "scorer = MLMScorerPT(model, None, tokenizer, ctxs)"
   ]
  },
  {
   "cell_type": "code",
   "execution_count": 5,
   "metadata": {},
   "outputs": [
    {
     "output_type": "execute_result",
     "data": {
      "text/plain": [
       "[-18.295551404356956]"
      ]
     },
     "metadata": {},
     "execution_count": 5
    }
   ],
   "source": [
    "scorer.score_sentences(['Here is a test sentence'])"
   ]
  },
  {
   "cell_type": "code",
   "execution_count": 6,
   "metadata": {},
   "outputs": [
    {
     "output_type": "execute_result",
     "data": {
      "text/plain": [
       "[-25.806969970464706]"
      ]
     },
     "metadata": {},
     "execution_count": 6
    }
   ],
   "source": [
    "scorer.score_sentences(['Here is a purple potato'])"
   ]
  },
  {
   "cell_type": "code",
   "execution_count": 9,
   "metadata": {},
   "outputs": [],
   "source": [
    "def score_sentence_alternatives(scorer, sentence, target_word, alt_words):\n",
    "    if not target_word in sentence:\n",
    "        raise ValueError(f'The target word \"{target_word}\" is not in the sentence \"{sentence}\"')\n",
    "    \n",
    "    sentence_copies = [sentence.replace(target_word, alt) for alt in alt_words]\n",
    "    scores = scorer.score_sentences([sentence] + sentence_copies)\n",
    "    return scores\n"
   ]
  },
  {
   "cell_type": "code",
   "execution_count": 10,
   "metadata": {},
   "outputs": [
    {
     "output_type": "execute_result",
     "data": {
      "text/plain": [
       "[-17.26363129913807,\n",
       " -15.599759384989738,\n",
       " -24.108910769224167,\n",
       " -16.903809688985348]"
      ]
     },
     "metadata": {},
     "execution_count": 10
    }
   ],
   "source": [
    "score_sentence_alternatives(scorer, 'The toy is on the table', 'toy', ['cow', 'dad', 'banana'])"
   ]
  },
  {
   "cell_type": "code",
   "execution_count": null,
   "metadata": {},
   "outputs": [],
   "source": []
  }
 ]
}